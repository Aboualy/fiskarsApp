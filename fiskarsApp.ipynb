{
 "cells": [
  {
   "cell_type": "code",
   "execution_count": 1,
   "metadata": {},
   "outputs": [
    {
     "ename": "NameError",
     "evalue": "name 'pd' is not defined",
     "output_type": "error",
     "traceback": [
      "\u001b[0;31m---------------------------------------------------------------------------\u001b[0m",
      "\u001b[0;31mNameError\u001b[0m                                 Traceback (most recent call last)",
      "\u001b[0;32m<ipython-input-1-f213b1acf2ff>\u001b[0m in \u001b[0;36m<module>\u001b[0;34m\u001b[0m\n\u001b[1;32m     37\u001b[0m         \u001b[0mdf\u001b[0m\u001b[0;34m.\u001b[0m\u001b[0mto_csv\u001b[0m\u001b[0;34m(\u001b[0m\u001b[0mfiletowrite\u001b[0m\u001b[0;34m,\u001b[0m \u001b[0msep\u001b[0m\u001b[0;34m=\u001b[0m\u001b[0;34m'\\t'\u001b[0m\u001b[0;34m,\u001b[0m \u001b[0mencoding\u001b[0m\u001b[0;34m=\u001b[0m\u001b[0;34m'utf-8'\u001b[0m\u001b[0;34m,\u001b[0m \u001b[0mindex\u001b[0m\u001b[0;34m=\u001b[0m\u001b[0;32mFalse\u001b[0m\u001b[0;34m)\u001b[0m\u001b[0;34m\u001b[0m\u001b[0;34m\u001b[0m\u001b[0m\n\u001b[1;32m     38\u001b[0m \u001b[0;34m\u001b[0m\u001b[0m\n\u001b[0;32m---> 39\u001b[0;31m \u001b[0mdf\u001b[0m \u001b[0;34m=\u001b[0m \u001b[0mread_all_csv_files\u001b[0m\u001b[0;34m(\u001b[0m\u001b[0;34m\"store_kpi/*/*.csv\"\u001b[0m\u001b[0;34m)\u001b[0m\u001b[0;34m\u001b[0m\u001b[0;34m\u001b[0m\u001b[0m\n\u001b[0m\u001b[1;32m     40\u001b[0m \u001b[0msave_df_to_csv\u001b[0m\u001b[0;34m(\u001b[0m\u001b[0mdf\u001b[0m\u001b[0;34m)\u001b[0m\u001b[0;34m\u001b[0m\u001b[0;34m\u001b[0m\u001b[0m\n",
      "\u001b[0;32m<ipython-input-1-f213b1acf2ff>\u001b[0m in \u001b[0;36mread_all_csv_files\u001b[0;34m(path)\u001b[0m\n\u001b[1;32m     20\u001b[0m     \"\"\"\n\u001b[1;32m     21\u001b[0m     \u001b[0mindex\u001b[0m \u001b[0;34m=\u001b[0m \u001b[0;36m0\u001b[0m\u001b[0;34m\u001b[0m\u001b[0;34m\u001b[0m\u001b[0m\n\u001b[0;32m---> 22\u001b[0;31m     dataframe = pd.DataFrame(columns=['date', 'store', 'Avg daily sales', 'Basket size, pieces',\n\u001b[0m\u001b[1;32m     23\u001b[0m            \u001b[0;34m'Basket size, value'\u001b[0m\u001b[0;34m,\u001b[0m \u001b[0;34m'Days open'\u001b[0m\u001b[0;34m,\u001b[0m \u001b[0;34m'Margin, value'\u001b[0m\u001b[0;34m,\u001b[0m \u001b[0;34m'Receipts'\u001b[0m\u001b[0;34m,\u001b[0m \u001b[0;34m'Sales'\u001b[0m\u001b[0;34m,\u001b[0m\u001b[0;34m\u001b[0m\u001b[0;34m\u001b[0m\u001b[0m\n\u001b[1;32m     24\u001b[0m            'Visitors'])\n",
      "\u001b[0;31mNameError\u001b[0m: name 'pd' is not defined"
     ]
    }
   ],
   "source": [
    "import glob\n",
    "\n",
    "def read_csv_file(filename):\n",
    "    #reading each CSV as a Pandas dataframe\n",
    "    df = pd.read_csv(filename)\n",
    "    #merging all the values into  one column\n",
    "    df['values'] = df[df.columns[4:]].apply( lambda x: ''.join(x.dropna().astype(str)), axis=1).astype(float)\n",
    "    df = (df.pivot_table(index=\"store\",columns=\"kpi\", values='values', aggfunc='mean')\n",
    "            .rename_axis(None, axis=1)\n",
    "            .reset_index())\n",
    "    #get the date from the directory name\n",
    "    date =  filename.split('/')[1].strip()\n",
    "    df.insert(loc=0, column='date', value=date)\n",
    "    return df\n",
    "\n",
    "def read_all_csv_files(path):\n",
    "    \"\"\"\n",
    "    opening all directories in 'store_kpi', then converting each CSV file in each directory into a dataframe (as a row)\n",
    "    append that row into the main dataframe that has all the CSVs \n",
    "    \"\"\"\n",
    "    index = 0\n",
    "    dataframe = pd.DataFrame(columns=['date', 'store', 'Avg daily sales', 'Basket size, pieces',\n",
    "           'Basket size, value', 'Days open', 'Margin, value', 'Receipts', 'Sales',\n",
    "           'Visitors'])\n",
    "\n",
    "    for filename in glob.glob(path):\n",
    "        df = read_csv_file(filename)\n",
    "        dataframe.loc[index] = np.array(df).ravel()\n",
    "        index += 1\n",
    "    return dataframe\n",
    "\n",
    "def save_df_to_csv(df):\n",
    "    \"\"\"\n",
    "    saving the final data frame as a CSV, nder the name of 'result.csv'\n",
    "    \"\"\"\n",
    "    with open('result.csv', 'w') as filetowrite:\n",
    "        df.to_csv(filetowrite, sep='\\t', encoding='utf-8', index=False)\n",
    "\n",
    "df = read_all_csv_files(\"store_kpi/*/*.csv\")\n",
    "save_df_to_csv(df)"
   ]
  },
  {
   "cell_type": "code",
   "execution_count": null,
   "metadata": {},
   "outputs": [],
   "source": [
    "#the average Margin, value of store 1050\n",
    "average_margin = df[df['store'] == 1050]['Margin, value'].mean()\n",
    "#output: 218666.7037037037\n",
    "print('The average_margin is: {:0.2f}'.format(average_margin))"
   ]
  },
  {
   "cell_type": "code",
   "execution_count": null,
   "metadata": {},
   "outputs": [],
   "source": [
    "np.array(highest_sales.Sales)"
   ]
  },
  {
   "cell_type": "code",
   "execution_count": null,
   "metadata": {},
   "outputs": [],
   "source": [
    "#the highest Sales of store 1071 (both date and amount)\n",
    "highest_sales = df.iloc[df.index[df['Sales'] == df[df['store'] == 1071]['Sales'].max()]][['date','store','Sales']]\n",
    "print(highest_sales.head())\n",
    "print('The highest Sales of store 1071 (date) is: ', highest_sales.date.values[0])\n",
    "print('The highest Sales of store 1071 (amount) is: {:.0f}'.format(highest_sales.Sales.values[0]))"
   ]
  },
  {
   "cell_type": "code",
   "execution_count": null,
   "metadata": {},
   "outputs": [],
   "source": [
    "#the average of all KPI of store 1066\n",
    "df[df['store'] == 1066].mean()"
   ]
  }
 ],
 "metadata": {
  "kernelspec": {
   "display_name": "Python 3",
   "language": "python",
   "name": "python3"
  },
  "language_info": {
   "codemirror_mode": {
    "name": "ipython",
    "version": 3
   },
   "file_extension": ".py",
   "mimetype": "text/x-python",
   "name": "python",
   "nbconvert_exporter": "python",
   "pygments_lexer": "ipython3",
   "version": "3.7.4"
  }
 },
 "nbformat": 4,
 "nbformat_minor": 2
}
