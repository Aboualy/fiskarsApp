{
 "cells": [
  {
   "cell_type": "code",
   "execution_count": 1,
   "metadata": {},
   "outputs": [],
   "source": [
    "import glob\n",
    "import pandas as pd\n",
    "import numpy as np\n",
    "import os\n",
    "def read_csv_file(filename):\n",
    "    #reading each CSV as a Pandas dataframe\n",
    "    df = pd.read_csv(filename)\n",
    "    #merging all the values into  one column\n",
    "    df['values'] = df[df.columns[4:]].apply( lambda x: ''.join(x.dropna().astype(str)), axis=1).astype(float)\n",
    "    df = (df.pivot_table(index=\"store\",columns=\"kpi\", values='values', aggfunc='mean')\n",
    "            .rename_axis(None, axis=1)\n",
    "            .reset_index())\n",
    "    #get the date from the directory name\n",
    "    date =  filename.split(os.sep)[-2]\n",
    "    #filename.split('/')[1].strip()\n",
    "    df.insert(loc=0, column='date', value=date)\n",
    "    return df\n",
    "\n",
    "def read_all_csv_files(path):\n",
    "    \"\"\"\n",
    "    opening all directories in 'store_kpi', then converting each CSV file in each directory into a dataframe (as a row)\n",
    "    append that row into the main dataframe that has all the CSVs \n",
    "    \"\"\"\n",
    "    index = 0\n",
    "    dataframe = pd.DataFrame(columns=['date', 'store', 'Avg daily sales', 'Basket size, pieces',\n",
    "           'Basket size, value', 'Days open', 'Margin, value', 'Receipts', 'Sales',\n",
    "           'Visitors'])\n",
    "\n",
    "    for filename in glob.glob(path):\n",
    "        df = read_csv_file(filename)\n",
    "        dataframe.loc[index] = np.array(df).ravel()\n",
    "        index += 1\n",
    "    return dataframe\n",
    "\n",
    "def save_df_to_csv(df):\n",
    "    \"\"\"\n",
    "    saving the final data frame as a CSV, nder the name of 'result.csv'\n",
    "    \"\"\"\n",
    "    with open('result.csv', 'w') as filetowrite:\n",
    "        df.to_csv(filetowrite, sep='\\t', encoding='utf-8', index=False)\n",
    "\n",
    "df = read_all_csv_files(\"store_kpi/*/*.csv\")\n",
    "save_df_to_csv(df)"
   ]
  },
  {
   "cell_type": "code",
   "execution_count": 2,
   "metadata": {},
   "outputs": [
    {
     "name": "stdout",
     "output_type": "stream",
     "text": [
      "The average_margin is: 218666.70\n"
     ]
    }
   ],
   "source": [
    "#the average Margin, value of store 1050\n",
    "average_margin = df[df['store'] == 1050]['Margin, value'].mean()\n",
    "#output: 218666.7037037037\n",
    "print('The average_margin is: {:0.2f}'.format(average_margin))"
   ]
  },
  {
   "cell_type": "code",
   "execution_count": 4,
   "metadata": {},
   "outputs": [
    {
     "data": {
      "text/plain": [
       "Avg daily sales          4408.285714\n",
       "Basket size, pieces         9.047619\n",
       "Basket size, value        126.326531\n",
       "Days open                  91.020408\n",
       "Margin, value           83321.455782\n",
       "Receipts                 2394.578231\n",
       "Sales                  105701.027211\n",
       "Visitors                12500.374150\n",
       "dtype: float64"
      ]
     },
     "execution_count": 4,
     "metadata": {},
     "output_type": "execute_result"
    }
   ],
   "source": [
    "#the highest Sales of store 1071 (both date and amount)\n",
    "highest_sales = df.iloc[df.index[df['Sales'] == df[df['store'] == 1071]['Sales'].max()]][['date','store','Sales']]\n",
    "print(highest_sales.head())\n",
    "print('The highest Sales of store 1071 (date) is: ', highest_sales.date.values[0])\n",
    "print('The highest Sales of store 1071 (amount) is: {:.0f}'.format(highest_sales.Sales.values[0]))"
   ]
  }
 ],
 "metadata": {
  "kernelspec": {
   "display_name": "Python 3",
   "language": "python",
   "name": "python3"
  },
  "language_info": {
   "codemirror_mode": {
    "name": "ipython",
    "version": 3
   },
   "file_extension": ".py",
   "mimetype": "text/x-python",
   "name": "python",
   "nbconvert_exporter": "python",
   "pygments_lexer": "ipython3",
   "version": "3.7.4"
  },
  "pycharm": {
   "stem_cell": {
    "cell_type": "raw",
    "source": [],
    "metadata": {
     "collapsed": false
    }
   }
  }
 },
 "nbformat": 4,
 "nbformat_minor": 2
}